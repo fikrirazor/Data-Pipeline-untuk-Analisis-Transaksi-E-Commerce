{
 "cells": [
  {
   "cell_type": "markdown",
   "id": "0a83d735-e307-4627-88fb-334eab63b5ab",
   "metadata": {
    "editable": true,
    "slideshow": {
     "slide_type": ""
    },
    "tags": []
   },
   "source": [
    "# Instalasi Package"
   ]
  },
  {
   "cell_type": "code",
   "execution_count": 2,
   "id": "a2266a90-8cd6-4244-a139-b31bd162a228",
   "metadata": {},
   "outputs": [
    {
     "name": "stdout",
     "output_type": "stream",
     "text": [
      "Requirement already satisfied: pandas in c:\\users\\rozan\\anaconda3\\lib\\site-packages (2.1.4)\n",
      "Requirement already satisfied: numpy in c:\\users\\rozan\\anaconda3\\lib\\site-packages (1.26.4)\n",
      "Requirement already satisfied: matplotlib in c:\\users\\rozan\\anaconda3\\lib\\site-packages (3.8.0)\n",
      "Requirement already satisfied: seaborn in c:\\users\\rozan\\anaconda3\\lib\\site-packages (0.13.2)\n",
      "Requirement already satisfied: python-dateutil>=2.8.2 in c:\\users\\rozan\\anaconda3\\lib\\site-packages (from pandas) (2.8.2)\n",
      "Requirement already satisfied: pytz>=2020.1 in c:\\users\\rozan\\anaconda3\\lib\\site-packages (from pandas) (2023.3.post1)\n",
      "Requirement already satisfied: tzdata>=2022.1 in c:\\users\\rozan\\anaconda3\\lib\\site-packages (from pandas) (2023.3)\n",
      "Requirement already satisfied: contourpy>=1.0.1 in c:\\users\\rozan\\anaconda3\\lib\\site-packages (from matplotlib) (1.2.0)\n",
      "Requirement already satisfied: cycler>=0.10 in c:\\users\\rozan\\anaconda3\\lib\\site-packages (from matplotlib) (0.11.0)\n",
      "Requirement already satisfied: fonttools>=4.22.0 in c:\\users\\rozan\\anaconda3\\lib\\site-packages (from matplotlib) (4.25.0)\n",
      "Requirement already satisfied: kiwisolver>=1.0.1 in c:\\users\\rozan\\anaconda3\\lib\\site-packages (from matplotlib) (1.4.4)\n",
      "Requirement already satisfied: packaging>=20.0 in c:\\users\\rozan\\anaconda3\\lib\\site-packages (from matplotlib) (23.2)\n",
      "Requirement already satisfied: pillow>=6.2.0 in c:\\users\\rozan\\anaconda3\\lib\\site-packages (from matplotlib) (10.2.0)\n",
      "Requirement already satisfied: pyparsing>=2.3.1 in c:\\users\\rozan\\anaconda3\\lib\\site-packages (from matplotlib) (3.0.9)\n",
      "Requirement already satisfied: six>=1.5 in c:\\users\\rozan\\anaconda3\\lib\\site-packages (from python-dateutil>=2.8.2->pandas) (1.16.0)\n",
      "Requirement already satisfied: kagglehub in c:\\users\\rozan\\anaconda3\\lib\\site-packages (0.3.7)\n",
      "Requirement already satisfied: model-signing in c:\\users\\rozan\\anaconda3\\lib\\site-packages (from kagglehub) (0.2.0)\n",
      "Requirement already satisfied: packaging in c:\\users\\rozan\\anaconda3\\lib\\site-packages (from kagglehub) (23.2)\n",
      "Requirement already satisfied: requests in c:\\users\\rozan\\anaconda3\\lib\\site-packages (from kagglehub) (2.32.3)\n",
      "Requirement already satisfied: tqdm in c:\\users\\rozan\\anaconda3\\lib\\site-packages (from kagglehub) (4.65.0)\n",
      "Requirement already satisfied: cryptography in c:\\users\\rozan\\anaconda3\\lib\\site-packages (from model-signing->kagglehub) (44.0.1)\n",
      "Requirement already satisfied: in-toto-attestation in c:\\users\\rozan\\anaconda3\\lib\\site-packages (from model-signing->kagglehub) (0.9.3)\n",
      "Requirement already satisfied: sigstore in c:\\users\\rozan\\anaconda3\\lib\\site-packages (from model-signing->kagglehub) (3.6.1)\n",
      "Requirement already satisfied: typing-extensions in c:\\users\\rozan\\anaconda3\\lib\\site-packages (from model-signing->kagglehub) (4.12.2)\n",
      "Requirement already satisfied: charset-normalizer<4,>=2 in c:\\users\\rozan\\anaconda3\\lib\\site-packages (from requests->kagglehub) (2.0.4)\n",
      "Requirement already satisfied: idna<4,>=2.5 in c:\\users\\rozan\\anaconda3\\lib\\site-packages (from requests->kagglehub) (3.4)\n",
      "Requirement already satisfied: urllib3<3,>=1.21.1 in c:\\users\\rozan\\anaconda3\\lib\\site-packages (from requests->kagglehub) (2.0.7)\n",
      "Requirement already satisfied: certifi>=2017.4.17 in c:\\users\\rozan\\anaconda3\\lib\\site-packages (from requests->kagglehub) (2025.1.31)\n",
      "Requirement already satisfied: colorama in c:\\users\\rozan\\anaconda3\\lib\\site-packages (from tqdm->kagglehub) (0.4.6)\n",
      "Requirement already satisfied: cffi>=1.12 in c:\\users\\rozan\\anaconda3\\lib\\site-packages (from cryptography->model-signing->kagglehub) (1.16.0)\n",
      "Requirement already satisfied: protobuf in c:\\users\\rozan\\anaconda3\\lib\\site-packages (from in-toto-attestation->model-signing->kagglehub) (4.25.3)\n",
      "Requirement already satisfied: id>=1.1.0 in c:\\users\\rozan\\anaconda3\\lib\\site-packages (from sigstore->model-signing->kagglehub) (1.5.0)\n",
      "Requirement already satisfied: pyasn1~=0.6 in c:\\users\\rozan\\anaconda3\\lib\\site-packages (from sigstore->model-signing->kagglehub) (0.6.1)\n",
      "Requirement already satisfied: pydantic<3,>=2 in c:\\users\\rozan\\anaconda3\\lib\\site-packages (from sigstore->model-signing->kagglehub) (2.10.3)\n",
      "Requirement already satisfied: pyjwt>=2.1 in c:\\users\\rozan\\anaconda3\\lib\\site-packages (from sigstore->model-signing->kagglehub) (2.4.0)\n",
      "Requirement already satisfied: pyOpenSSL>=23.0.0 in c:\\users\\rozan\\anaconda3\\lib\\site-packages (from sigstore->model-signing->kagglehub) (25.0.0)\n",
      "Requirement already satisfied: rich~=13.0 in c:\\users\\rozan\\anaconda3\\lib\\site-packages (from sigstore->model-signing->kagglehub) (13.9.4)\n",
      "Requirement already satisfied: rfc8785~=0.1.2 in c:\\users\\rozan\\anaconda3\\lib\\site-packages (from sigstore->model-signing->kagglehub) (0.1.4)\n",
      "Requirement already satisfied: rfc3161-client~=0.1.2 in c:\\users\\rozan\\anaconda3\\lib\\site-packages (from sigstore->model-signing->kagglehub) (0.1.2)\n",
      "Requirement already satisfied: sigstore-protobuf-specs==0.3.2 in c:\\users\\rozan\\anaconda3\\lib\\site-packages (from sigstore->model-signing->kagglehub) (0.3.2)\n",
      "Requirement already satisfied: sigstore-rekor-types==0.0.18 in c:\\users\\rozan\\anaconda3\\lib\\site-packages (from sigstore->model-signing->kagglehub) (0.0.18)\n",
      "Requirement already satisfied: tuf~=5.0 in c:\\users\\rozan\\anaconda3\\lib\\site-packages (from sigstore->model-signing->kagglehub) (5.1.0)\n",
      "Requirement already satisfied: platformdirs~=4.2 in c:\\users\\rozan\\anaconda3\\lib\\site-packages (from sigstore->model-signing->kagglehub) (4.3.6)\n",
      "Requirement already satisfied: betterproto==2.0.0b6 in c:\\users\\rozan\\anaconda3\\lib\\site-packages (from sigstore-protobuf-specs==0.3.2->sigstore->model-signing->kagglehub) (2.0.0b6)\n",
      "Requirement already satisfied: grpclib<0.5.0,>=0.4.1 in c:\\users\\rozan\\anaconda3\\lib\\site-packages (from betterproto==2.0.0b6->sigstore-protobuf-specs==0.3.2->sigstore->model-signing->kagglehub) (0.4.7)\n",
      "Requirement already satisfied: python-dateutil<3.0,>=2.8 in c:\\users\\rozan\\anaconda3\\lib\\site-packages (from betterproto==2.0.0b6->sigstore-protobuf-specs==0.3.2->sigstore->model-signing->kagglehub) (2.8.2)\n",
      "Requirement already satisfied: pycparser in c:\\users\\rozan\\anaconda3\\lib\\site-packages (from cffi>=1.12->cryptography->model-signing->kagglehub) (2.21)\n",
      "Requirement already satisfied: annotated-types>=0.6.0 in c:\\users\\rozan\\anaconda3\\lib\\site-packages (from pydantic<3,>=2->sigstore->model-signing->kagglehub) (0.6.0)\n",
      "Requirement already satisfied: pydantic-core==2.27.1 in c:\\users\\rozan\\anaconda3\\lib\\site-packages (from pydantic<3,>=2->sigstore->model-signing->kagglehub) (2.27.1)\n",
      "Requirement already satisfied: markdown-it-py>=2.2.0 in c:\\users\\rozan\\anaconda3\\lib\\site-packages (from rich~=13.0->sigstore->model-signing->kagglehub) (2.2.0)\n",
      "Requirement already satisfied: pygments<3.0.0,>=2.13.0 in c:\\users\\rozan\\anaconda3\\lib\\site-packages (from rich~=13.0->sigstore->model-signing->kagglehub) (2.15.1)\n",
      "Requirement already satisfied: securesystemslib~=1.0 in c:\\users\\rozan\\anaconda3\\lib\\site-packages (from tuf~=5.0->sigstore->model-signing->kagglehub) (1.2.0)\n",
      "Requirement already satisfied: mdurl~=0.1 in c:\\users\\rozan\\anaconda3\\lib\\site-packages (from markdown-it-py>=2.2.0->rich~=13.0->sigstore->model-signing->kagglehub) (0.1.0)\n",
      "Requirement already satisfied: email-validator>=2.0.0 in c:\\users\\rozan\\anaconda3\\lib\\site-packages (from pydantic<3,>=2->sigstore->model-signing->kagglehub) (2.2.0)\n",
      "Requirement already satisfied: dnspython>=2.0.0 in c:\\users\\rozan\\anaconda3\\lib\\site-packages (from email-validator>=2.0.0->pydantic<3,>=2->sigstore->model-signing->kagglehub) (2.7.0)\n",
      "Requirement already satisfied: h2<5,>=3.1.0 in c:\\users\\rozan\\anaconda3\\lib\\site-packages (from grpclib<0.5.0,>=0.4.1->betterproto==2.0.0b6->sigstore-protobuf-specs==0.3.2->sigstore->model-signing->kagglehub) (4.2.0)\n",
      "Requirement already satisfied: multidict in c:\\users\\rozan\\anaconda3\\lib\\site-packages (from grpclib<0.5.0,>=0.4.1->betterproto==2.0.0b6->sigstore-protobuf-specs==0.3.2->sigstore->model-signing->kagglehub) (6.0.4)\n",
      "Requirement already satisfied: six>=1.5 in c:\\users\\rozan\\anaconda3\\lib\\site-packages (from python-dateutil<3.0,>=2.8->betterproto==2.0.0b6->sigstore-protobuf-specs==0.3.2->sigstore->model-signing->kagglehub) (1.16.0)\n",
      "Requirement already satisfied: hyperframe<7,>=6.1 in c:\\users\\rozan\\anaconda3\\lib\\site-packages (from h2<5,>=3.1.0->grpclib<0.5.0,>=0.4.1->betterproto==2.0.0b6->sigstore-protobuf-specs==0.3.2->sigstore->model-signing->kagglehub) (6.1.0)\n",
      "Requirement already satisfied: hpack<5,>=4.1 in c:\\users\\rozan\\anaconda3\\lib\\site-packages (from h2<5,>=3.1.0->grpclib<0.5.0,>=0.4.1->betterproto==2.0.0b6->sigstore-protobuf-specs==0.3.2->sigstore->model-signing->kagglehub) (4.1.0)\n"
     ]
    }
   ],
   "source": [
    "# Install package dasar\n",
    "!pip install pandas numpy matplotlib seaborn\n",
    "\n",
    "# Install Kaggle API (untuk download dataset dari Kaggle)\n",
    "#!pip install kaggle\n",
    "\n",
    "# Install library tambahan (jika diperlukan)\n",
    "#!pip install openpyxl sqlalchemy kagglehub\n",
    "!pip install kagglehub\n"
   ]
  },
  {
   "cell_type": "markdown",
   "id": "55c9f9a1-db08-48db-88e9-164ec657b7ab",
   "metadata": {},
   "source": [
    "# Input Data"
   ]
  },
  {
   "cell_type": "code",
   "execution_count": 3,
   "id": "9ae15654-8669-4e6c-b262-2341fdefa1ad",
   "metadata": {},
   "outputs": [
    {
     "name": "stderr",
     "output_type": "stream",
     "text": [
      "C:\\Users\\Rozan\\anaconda3\\Lib\\site-packages\\tqdm\\auto.py:21: TqdmWarning: IProgress not found. Please update jupyter and ipywidgets. See https://ipywidgets.readthedocs.io/en/stable/user_install.html\n",
      "  from .autonotebook import tqdm as notebook_tqdm\n"
     ]
    },
    {
     "name": "stdout",
     "output_type": "stream",
     "text": [
      "Warning: Looks like you're using an outdated `kagglehub` version (installed: 0.3.7), please consider upgrading to the latest version (0.3.8).\n",
      "Path to dataset files: C:\\Users\\Rozan\\.cache\\kagglehub\\datasets\\olistbr\\brazilian-ecommerce\\versions\\2\n"
     ]
    }
   ],
   "source": [
    "import kagglehub\n",
    "import os\n",
    "import pandas as pd\n",
    "\n",
    "# Download latest version\n",
    "path = kagglehub.dataset_download(\"olistbr/brazilian-ecommerce\")\n",
    "\n",
    "print(\"Path to dataset files:\", path)"
   ]
  },
  {
   "cell_type": "code",
   "execution_count": 4,
   "id": "0d15042b-54b6-4d85-bfc2-addf335dc926",
   "metadata": {},
   "outputs": [
    {
     "name": "stdout",
     "output_type": "stream",
     "text": [
      "Daftar file yang tersedia: ['olist_customers_dataset.csv', 'olist_geolocation_dataset.csv', 'olist_orders_dataset.csv', 'olist_order_items_dataset.csv', 'olist_order_payments_dataset.csv', 'olist_order_reviews_dataset.csv', 'olist_products_dataset.csv', 'olist_sellers_dataset.csv', 'product_category_name_translation.csv']\n"
     ]
    }
   ],
   "source": [
    "# List semua file di direktori dataset\n",
    "files = os.listdir(path)\n",
    "print(\"Daftar file yang tersedia:\", files)"
   ]
  },
  {
   "attachments": {},
   "cell_type": "markdown",
   "id": "ce596eda-5dff-47d5-8c23-3028dbaf455c",
   "metadata": {},
   "source": [
    " # Data Scheme\n",
    " <img src=\"https://i.imgur.com/HRhd2Y0.png\" alt=\"data-scheme\" width=\"1000\"/>\r\n"
   ]
  },
  {
   "cell_type": "code",
   "execution_count": 5,
   "id": "fab3cff0-a11b-4b0d-933c-56e50d27b0f7",
   "metadata": {},
   "outputs": [
    {
     "data": {
      "text/plain": [
       "'\\n# Contoh: Baca file orders\\norders_path = os.path.join(path, \"olist_orders_dataset.csv\")\\norders_df = pd.read_csv(orders_path)\\n\\n# Contoh: Baca file products\\nproducts_path = os.path.join(path, \"olist_products_dataset.csv\")\\nproducts_df = pd.read_csv(products_path)\\n\\nprint(\"Orders Data:\")\\nprint(orders_df.head())\\n'"
      ]
     },
     "execution_count": 5,
     "metadata": {},
     "output_type": "execute_result"
    }
   ],
   "source": [
    "\"\"\"\n",
    "# Contoh: Baca file orders\n",
    "orders_path = os.path.join(path, \"olist_orders_dataset.csv\")\n",
    "orders_df = pd.read_csv(orders_path)\n",
    "\n",
    "# Contoh: Baca file products\n",
    "products_path = os.path.join(path, \"olist_products_dataset.csv\")\n",
    "products_df = pd.read_csv(products_path)\n",
    "\n",
    "print(\"Orders Data:\")\n",
    "print(orders_df.head())\n",
    "\"\"\""
   ]
  },
  {
   "cell_type": "code",
   "execution_count": 6,
   "id": "b29030f8-893b-4bb5-b8e7-9341410171d7",
   "metadata": {},
   "outputs": [],
   "source": [
    "# List semua file CSV\n",
    "csv_files = [f for f in os.listdir(path) if f.endswith('.csv')]\n",
    "\n",
    "# Baca semua CSV ke dictionary of DataFrames\n",
    "dataframes = {}\n",
    "for file in csv_files:\n",
    "    df_name = file.replace(\"olist_\", \"\").replace(\"_dataset.csv\", \"\")\n",
    "    dataframes[df_name] = pd.read_csv(os.path.join(path, file))"
   ]
  },
  {
   "cell_type": "markdown",
   "id": "f6e8133c-da71-47ac-ad5b-5a20e3a37cfe",
   "metadata": {},
   "source": [
    "# Mengetahui kata kunci data"
   ]
  },
  {
   "cell_type": "code",
   "execution_count": 7,
   "id": "b30ebeb4-a391-446a-b697-9cbe4649aa0b",
   "metadata": {},
   "outputs": [
    {
     "name": "stdout",
     "output_type": "stream",
     "text": [
      "customers\n",
      "geolocation\n",
      "orders\n",
      "order_items\n",
      "order_payments\n",
      "order_reviews\n",
      "products\n",
      "sellers\n",
      "product_category_name_translation.csv\n"
     ]
    }
   ],
   "source": [
    "for key in dataframes:\n",
    "    print(key)"
   ]
  },
  {
   "cell_type": "code",
   "execution_count": 8,
   "id": "1fabc99f-8e0a-4c4e-9125-1f3ab59abc98",
   "metadata": {},
   "outputs": [],
   "source": [
    "# Contoh: Ambil data orders dan customers\n",
    "customers = dataframes['customers']\n",
    "geolocation = dataframes['geolocation']\n",
    "orders = dataframes['orders']\n",
    "order_items = dataframes['order_items']\n",
    "order_payments = dataframes['order_payments']\n",
    "order_reviews = dataframes['order_reviews']\n",
    "products = dataframes['products']\n",
    "sellers = dataframes['sellers']\n",
    "product_category_name = dataframes['product_category_name_translation.csv']\n",
    "# Gabungkan data orders dan customers\n",
    "#merged_data = pd.merge(orders, customers, on='customer_id', how='left')\n",
    "#print(merged_data.head())"
   ]
  },
  {
   "cell_type": "code",
   "execution_count": 9,
   "id": "92802910-9a81-42c6-9b0e-2ebe2368dcee",
   "metadata": {},
   "outputs": [
    {
     "data": {
      "text/html": [
       "<div>\n",
       "<style scoped>\n",
       "    .dataframe tbody tr th:only-of-type {\n",
       "        vertical-align: middle;\n",
       "    }\n",
       "\n",
       "    .dataframe tbody tr th {\n",
       "        vertical-align: top;\n",
       "    }\n",
       "\n",
       "    .dataframe thead th {\n",
       "        text-align: right;\n",
       "    }\n",
       "</style>\n",
       "<table border=\"1\" class=\"dataframe\">\n",
       "  <thead>\n",
       "    <tr style=\"text-align: right;\">\n",
       "      <th></th>\n",
       "      <th>order_id</th>\n",
       "      <th>customer_id</th>\n",
       "      <th>order_status</th>\n",
       "      <th>order_purchase_timestamp</th>\n",
       "      <th>order_approved_at</th>\n",
       "      <th>order_delivered_carrier_date</th>\n",
       "      <th>order_delivered_customer_date</th>\n",
       "      <th>order_estimated_delivery_date</th>\n",
       "    </tr>\n",
       "  </thead>\n",
       "  <tbody>\n",
       "    <tr>\n",
       "      <th>0</th>\n",
       "      <td>e481f51cbdc54678b7cc49136f2d6af7</td>\n",
       "      <td>9ef432eb6251297304e76186b10a928d</td>\n",
       "      <td>delivered</td>\n",
       "      <td>2017-10-02 10:56:33</td>\n",
       "      <td>2017-10-02 11:07:15</td>\n",
       "      <td>2017-10-04 19:55:00</td>\n",
       "      <td>2017-10-10 21:25:13</td>\n",
       "      <td>2017-10-18 00:00:00</td>\n",
       "    </tr>\n",
       "    <tr>\n",
       "      <th>1</th>\n",
       "      <td>53cdb2fc8bc7dce0b6741e2150273451</td>\n",
       "      <td>b0830fb4747a6c6d20dea0b8c802d7ef</td>\n",
       "      <td>delivered</td>\n",
       "      <td>2018-07-24 20:41:37</td>\n",
       "      <td>2018-07-26 03:24:27</td>\n",
       "      <td>2018-07-26 14:31:00</td>\n",
       "      <td>2018-08-07 15:27:45</td>\n",
       "      <td>2018-08-13 00:00:00</td>\n",
       "    </tr>\n",
       "    <tr>\n",
       "      <th>2</th>\n",
       "      <td>47770eb9100c2d0c44946d9cf07ec65d</td>\n",
       "      <td>41ce2a54c0b03bf3443c3d931a367089</td>\n",
       "      <td>delivered</td>\n",
       "      <td>2018-08-08 08:38:49</td>\n",
       "      <td>2018-08-08 08:55:23</td>\n",
       "      <td>2018-08-08 13:50:00</td>\n",
       "      <td>2018-08-17 18:06:29</td>\n",
       "      <td>2018-09-04 00:00:00</td>\n",
       "    </tr>\n",
       "    <tr>\n",
       "      <th>3</th>\n",
       "      <td>949d5b44dbf5de918fe9c16f97b45f8a</td>\n",
       "      <td>f88197465ea7920adcdbec7375364d82</td>\n",
       "      <td>delivered</td>\n",
       "      <td>2017-11-18 19:28:06</td>\n",
       "      <td>2017-11-18 19:45:59</td>\n",
       "      <td>2017-11-22 13:39:59</td>\n",
       "      <td>2017-12-02 00:28:42</td>\n",
       "      <td>2017-12-15 00:00:00</td>\n",
       "    </tr>\n",
       "    <tr>\n",
       "      <th>4</th>\n",
       "      <td>ad21c59c0840e6cb83a9ceb5573f8159</td>\n",
       "      <td>8ab97904e6daea8866dbdbc4fb7aad2c</td>\n",
       "      <td>delivered</td>\n",
       "      <td>2018-02-13 21:18:39</td>\n",
       "      <td>2018-02-13 22:20:29</td>\n",
       "      <td>2018-02-14 19:46:34</td>\n",
       "      <td>2018-02-16 18:17:02</td>\n",
       "      <td>2018-02-26 00:00:00</td>\n",
       "    </tr>\n",
       "  </tbody>\n",
       "</table>\n",
       "</div>"
      ],
      "text/plain": [
       "                           order_id                       customer_id  \\\n",
       "0  e481f51cbdc54678b7cc49136f2d6af7  9ef432eb6251297304e76186b10a928d   \n",
       "1  53cdb2fc8bc7dce0b6741e2150273451  b0830fb4747a6c6d20dea0b8c802d7ef   \n",
       "2  47770eb9100c2d0c44946d9cf07ec65d  41ce2a54c0b03bf3443c3d931a367089   \n",
       "3  949d5b44dbf5de918fe9c16f97b45f8a  f88197465ea7920adcdbec7375364d82   \n",
       "4  ad21c59c0840e6cb83a9ceb5573f8159  8ab97904e6daea8866dbdbc4fb7aad2c   \n",
       "\n",
       "  order_status order_purchase_timestamp    order_approved_at  \\\n",
       "0    delivered      2017-10-02 10:56:33  2017-10-02 11:07:15   \n",
       "1    delivered      2018-07-24 20:41:37  2018-07-26 03:24:27   \n",
       "2    delivered      2018-08-08 08:38:49  2018-08-08 08:55:23   \n",
       "3    delivered      2017-11-18 19:28:06  2017-11-18 19:45:59   \n",
       "4    delivered      2018-02-13 21:18:39  2018-02-13 22:20:29   \n",
       "\n",
       "  order_delivered_carrier_date order_delivered_customer_date  \\\n",
       "0          2017-10-04 19:55:00           2017-10-10 21:25:13   \n",
       "1          2018-07-26 14:31:00           2018-08-07 15:27:45   \n",
       "2          2018-08-08 13:50:00           2018-08-17 18:06:29   \n",
       "3          2017-11-22 13:39:59           2017-12-02 00:28:42   \n",
       "4          2018-02-14 19:46:34           2018-02-16 18:17:02   \n",
       "\n",
       "  order_estimated_delivery_date  \n",
       "0           2017-10-18 00:00:00  \n",
       "1           2018-08-13 00:00:00  \n",
       "2           2018-09-04 00:00:00  \n",
       "3           2017-12-15 00:00:00  \n",
       "4           2018-02-26 00:00:00  "
      ]
     },
     "execution_count": 9,
     "metadata": {},
     "output_type": "execute_result"
    }
   ],
   "source": [
    "orders.head()"
   ]
  },
  {
   "cell_type": "code",
   "execution_count": 10,
   "id": "2b54206b-1504-4e7c-9848-49deb5eb5505",
   "metadata": {},
   "outputs": [],
   "source": [
    "# Menggabungkan dataset order dengan customer\n",
    "merged_data = pd.merge(orders, customers, on=\"customer_id\", how=\"left\")\n",
    "\n",
    "# Menggabungkan dataset order dengan items\n",
    "merged_data = pd.merge(merged_data, orders, on=\"order_id\", how=\"inner\")\n",
    "\n",
    "merged_data = pd.merge(merged_data, order_items, on=\"order_id\", how=\"inner\")\n",
    "\n",
    "# Menggabungkan dataset items dengan products\n",
    "merged_data = pd.merge(merged_data, products, on=\"product_id\", how=\"left\")\n",
    "\n",
    "# Menggabungkan dataset items dengan sellers\n",
    "merged_data = pd.merge(merged_data, sellers, on=\"seller_id\", how=\"left\")\n",
    "\n",
    "# Menggabungkan dataset orders dengan payments\n",
    "merged_data = pd.merge(merged_data, order_payments, on=\"order_id\", how=\"left\")\n",
    "\n",
    "# Menggabungkan dataset orders dengan reviews\n",
    "merged_data = pd.merge(merged_data, order_reviews, on=\"order_id\", how=\"left\")\n"
   ]
  },
  {
   "cell_type": "code",
   "execution_count": 11,
   "id": "f5c10068-588a-46a0-90cd-570995ae058e",
   "metadata": {},
   "outputs": [
    {
     "data": {
      "text/html": [
       "<div>\n",
       "<style scoped>\n",
       "    .dataframe tbody tr th:only-of-type {\n",
       "        vertical-align: middle;\n",
       "    }\n",
       "\n",
       "    .dataframe tbody tr th {\n",
       "        vertical-align: top;\n",
       "    }\n",
       "\n",
       "    .dataframe thead th {\n",
       "        text-align: right;\n",
       "    }\n",
       "</style>\n",
       "<table border=\"1\" class=\"dataframe\">\n",
       "  <thead>\n",
       "    <tr style=\"text-align: right;\">\n",
       "      <th></th>\n",
       "      <th>order_id</th>\n",
       "      <th>customer_id_x</th>\n",
       "      <th>order_status_x</th>\n",
       "      <th>order_purchase_timestamp_x</th>\n",
       "      <th>order_approved_at_x</th>\n",
       "      <th>order_delivered_carrier_date_x</th>\n",
       "      <th>order_delivered_customer_date_x</th>\n",
       "      <th>order_estimated_delivery_date_x</th>\n",
       "      <th>customer_unique_id</th>\n",
       "      <th>customer_zip_code_prefix</th>\n",
       "      <th>...</th>\n",
       "      <th>payment_sequential</th>\n",
       "      <th>payment_type</th>\n",
       "      <th>payment_installments</th>\n",
       "      <th>payment_value</th>\n",
       "      <th>review_id</th>\n",
       "      <th>review_score</th>\n",
       "      <th>review_comment_title</th>\n",
       "      <th>review_comment_message</th>\n",
       "      <th>review_creation_date</th>\n",
       "      <th>review_answer_timestamp</th>\n",
       "    </tr>\n",
       "  </thead>\n",
       "  <tbody>\n",
       "    <tr>\n",
       "      <th>0</th>\n",
       "      <td>e481f51cbdc54678b7cc49136f2d6af7</td>\n",
       "      <td>9ef432eb6251297304e76186b10a928d</td>\n",
       "      <td>delivered</td>\n",
       "      <td>2017-10-02 10:56:33</td>\n",
       "      <td>2017-10-02 11:07:15</td>\n",
       "      <td>2017-10-04 19:55:00</td>\n",
       "      <td>2017-10-10 21:25:13</td>\n",
       "      <td>2017-10-18 00:00:00</td>\n",
       "      <td>7c396fd4830fd04220f754e42b4e5bff</td>\n",
       "      <td>3149</td>\n",
       "      <td>...</td>\n",
       "      <td>1.0</td>\n",
       "      <td>credit_card</td>\n",
       "      <td>1.0</td>\n",
       "      <td>18.12</td>\n",
       "      <td>a54f0611adc9ed256b57ede6b6eb5114</td>\n",
       "      <td>4.0</td>\n",
       "      <td>NaN</td>\n",
       "      <td>Não testei o produto ainda, mas ele veio corre...</td>\n",
       "      <td>2017-10-11 00:00:00</td>\n",
       "      <td>2017-10-12 03:43:48</td>\n",
       "    </tr>\n",
       "    <tr>\n",
       "      <th>1</th>\n",
       "      <td>e481f51cbdc54678b7cc49136f2d6af7</td>\n",
       "      <td>9ef432eb6251297304e76186b10a928d</td>\n",
       "      <td>delivered</td>\n",
       "      <td>2017-10-02 10:56:33</td>\n",
       "      <td>2017-10-02 11:07:15</td>\n",
       "      <td>2017-10-04 19:55:00</td>\n",
       "      <td>2017-10-10 21:25:13</td>\n",
       "      <td>2017-10-18 00:00:00</td>\n",
       "      <td>7c396fd4830fd04220f754e42b4e5bff</td>\n",
       "      <td>3149</td>\n",
       "      <td>...</td>\n",
       "      <td>3.0</td>\n",
       "      <td>voucher</td>\n",
       "      <td>1.0</td>\n",
       "      <td>2.00</td>\n",
       "      <td>a54f0611adc9ed256b57ede6b6eb5114</td>\n",
       "      <td>4.0</td>\n",
       "      <td>NaN</td>\n",
       "      <td>Não testei o produto ainda, mas ele veio corre...</td>\n",
       "      <td>2017-10-11 00:00:00</td>\n",
       "      <td>2017-10-12 03:43:48</td>\n",
       "    </tr>\n",
       "    <tr>\n",
       "      <th>2</th>\n",
       "      <td>e481f51cbdc54678b7cc49136f2d6af7</td>\n",
       "      <td>9ef432eb6251297304e76186b10a928d</td>\n",
       "      <td>delivered</td>\n",
       "      <td>2017-10-02 10:56:33</td>\n",
       "      <td>2017-10-02 11:07:15</td>\n",
       "      <td>2017-10-04 19:55:00</td>\n",
       "      <td>2017-10-10 21:25:13</td>\n",
       "      <td>2017-10-18 00:00:00</td>\n",
       "      <td>7c396fd4830fd04220f754e42b4e5bff</td>\n",
       "      <td>3149</td>\n",
       "      <td>...</td>\n",
       "      <td>2.0</td>\n",
       "      <td>voucher</td>\n",
       "      <td>1.0</td>\n",
       "      <td>18.59</td>\n",
       "      <td>a54f0611adc9ed256b57ede6b6eb5114</td>\n",
       "      <td>4.0</td>\n",
       "      <td>NaN</td>\n",
       "      <td>Não testei o produto ainda, mas ele veio corre...</td>\n",
       "      <td>2017-10-11 00:00:00</td>\n",
       "      <td>2017-10-12 03:43:48</td>\n",
       "    </tr>\n",
       "    <tr>\n",
       "      <th>3</th>\n",
       "      <td>53cdb2fc8bc7dce0b6741e2150273451</td>\n",
       "      <td>b0830fb4747a6c6d20dea0b8c802d7ef</td>\n",
       "      <td>delivered</td>\n",
       "      <td>2018-07-24 20:41:37</td>\n",
       "      <td>2018-07-26 03:24:27</td>\n",
       "      <td>2018-07-26 14:31:00</td>\n",
       "      <td>2018-08-07 15:27:45</td>\n",
       "      <td>2018-08-13 00:00:00</td>\n",
       "      <td>af07308b275d755c9edb36a90c618231</td>\n",
       "      <td>47813</td>\n",
       "      <td>...</td>\n",
       "      <td>1.0</td>\n",
       "      <td>boleto</td>\n",
       "      <td>1.0</td>\n",
       "      <td>141.46</td>\n",
       "      <td>8d5266042046a06655c8db133d120ba5</td>\n",
       "      <td>4.0</td>\n",
       "      <td>Muito boa a loja</td>\n",
       "      <td>Muito bom o produto.</td>\n",
       "      <td>2018-08-08 00:00:00</td>\n",
       "      <td>2018-08-08 18:37:50</td>\n",
       "    </tr>\n",
       "    <tr>\n",
       "      <th>4</th>\n",
       "      <td>47770eb9100c2d0c44946d9cf07ec65d</td>\n",
       "      <td>41ce2a54c0b03bf3443c3d931a367089</td>\n",
       "      <td>delivered</td>\n",
       "      <td>2018-08-08 08:38:49</td>\n",
       "      <td>2018-08-08 08:55:23</td>\n",
       "      <td>2018-08-08 13:50:00</td>\n",
       "      <td>2018-08-17 18:06:29</td>\n",
       "      <td>2018-09-04 00:00:00</td>\n",
       "      <td>3a653a41f6f9fc3d2a113cf8398680e8</td>\n",
       "      <td>75265</td>\n",
       "      <td>...</td>\n",
       "      <td>1.0</td>\n",
       "      <td>credit_card</td>\n",
       "      <td>3.0</td>\n",
       "      <td>179.12</td>\n",
       "      <td>e73b67b67587f7644d5bd1a52deb1b01</td>\n",
       "      <td>5.0</td>\n",
       "      <td>NaN</td>\n",
       "      <td>NaN</td>\n",
       "      <td>2018-08-18 00:00:00</td>\n",
       "      <td>2018-08-22 19:07:58</td>\n",
       "    </tr>\n",
       "  </tbody>\n",
       "</table>\n",
       "<p>5 rows × 46 columns</p>\n",
       "</div>"
      ],
      "text/plain": [
       "                           order_id                     customer_id_x  \\\n",
       "0  e481f51cbdc54678b7cc49136f2d6af7  9ef432eb6251297304e76186b10a928d   \n",
       "1  e481f51cbdc54678b7cc49136f2d6af7  9ef432eb6251297304e76186b10a928d   \n",
       "2  e481f51cbdc54678b7cc49136f2d6af7  9ef432eb6251297304e76186b10a928d   \n",
       "3  53cdb2fc8bc7dce0b6741e2150273451  b0830fb4747a6c6d20dea0b8c802d7ef   \n",
       "4  47770eb9100c2d0c44946d9cf07ec65d  41ce2a54c0b03bf3443c3d931a367089   \n",
       "\n",
       "  order_status_x order_purchase_timestamp_x  order_approved_at_x  \\\n",
       "0      delivered        2017-10-02 10:56:33  2017-10-02 11:07:15   \n",
       "1      delivered        2017-10-02 10:56:33  2017-10-02 11:07:15   \n",
       "2      delivered        2017-10-02 10:56:33  2017-10-02 11:07:15   \n",
       "3      delivered        2018-07-24 20:41:37  2018-07-26 03:24:27   \n",
       "4      delivered        2018-08-08 08:38:49  2018-08-08 08:55:23   \n",
       "\n",
       "  order_delivered_carrier_date_x order_delivered_customer_date_x  \\\n",
       "0            2017-10-04 19:55:00             2017-10-10 21:25:13   \n",
       "1            2017-10-04 19:55:00             2017-10-10 21:25:13   \n",
       "2            2017-10-04 19:55:00             2017-10-10 21:25:13   \n",
       "3            2018-07-26 14:31:00             2018-08-07 15:27:45   \n",
       "4            2018-08-08 13:50:00             2018-08-17 18:06:29   \n",
       "\n",
       "  order_estimated_delivery_date_x                customer_unique_id  \\\n",
       "0             2017-10-18 00:00:00  7c396fd4830fd04220f754e42b4e5bff   \n",
       "1             2017-10-18 00:00:00  7c396fd4830fd04220f754e42b4e5bff   \n",
       "2             2017-10-18 00:00:00  7c396fd4830fd04220f754e42b4e5bff   \n",
       "3             2018-08-13 00:00:00  af07308b275d755c9edb36a90c618231   \n",
       "4             2018-09-04 00:00:00  3a653a41f6f9fc3d2a113cf8398680e8   \n",
       "\n",
       "   customer_zip_code_prefix  ... payment_sequential payment_type  \\\n",
       "0                      3149  ...                1.0  credit_card   \n",
       "1                      3149  ...                3.0      voucher   \n",
       "2                      3149  ...                2.0      voucher   \n",
       "3                     47813  ...                1.0       boleto   \n",
       "4                     75265  ...                1.0  credit_card   \n",
       "\n",
       "  payment_installments payment_value                         review_id  \\\n",
       "0                  1.0         18.12  a54f0611adc9ed256b57ede6b6eb5114   \n",
       "1                  1.0          2.00  a54f0611adc9ed256b57ede6b6eb5114   \n",
       "2                  1.0         18.59  a54f0611adc9ed256b57ede6b6eb5114   \n",
       "3                  1.0        141.46  8d5266042046a06655c8db133d120ba5   \n",
       "4                  3.0        179.12  e73b67b67587f7644d5bd1a52deb1b01   \n",
       "\n",
       "  review_score review_comment_title  \\\n",
       "0          4.0                  NaN   \n",
       "1          4.0                  NaN   \n",
       "2          4.0                  NaN   \n",
       "3          4.0     Muito boa a loja   \n",
       "4          5.0                  NaN   \n",
       "\n",
       "                              review_comment_message review_creation_date  \\\n",
       "0  Não testei o produto ainda, mas ele veio corre...  2017-10-11 00:00:00   \n",
       "1  Não testei o produto ainda, mas ele veio corre...  2017-10-11 00:00:00   \n",
       "2  Não testei o produto ainda, mas ele veio corre...  2017-10-11 00:00:00   \n",
       "3                               Muito bom o produto.  2018-08-08 00:00:00   \n",
       "4                                                NaN  2018-08-18 00:00:00   \n",
       "\n",
       "   review_answer_timestamp  \n",
       "0      2017-10-12 03:43:48  \n",
       "1      2017-10-12 03:43:48  \n",
       "2      2017-10-12 03:43:48  \n",
       "3      2018-08-08 18:37:50  \n",
       "4      2018-08-22 19:07:58  \n",
       "\n",
       "[5 rows x 46 columns]"
      ]
     },
     "execution_count": 11,
     "metadata": {},
     "output_type": "execute_result"
    }
   ],
   "source": [
    "merged_data.head()"
   ]
  },
  {
   "cell_type": "code",
   "execution_count": 12,
   "id": "6a1612e3-2f2a-460b-8326-e955723b4508",
   "metadata": {},
   "outputs": [],
   "source": [
    "# Contoh: Membersihkan data orders\n",
    "# Handle missing values\n",
    "orders.dropna(subset=['order_status'], inplace=True)\n",
    "\n",
    "# Konversi tipe data\n",
    "orders['order_purchase_timestamp'] = pd.to_datetime(orders['order_purchase_timestamp'])\n",
    "\n",
    "# Filter data yang relevan (contoh: hanya pesanan yang sudah terkirim)\n",
    "completed_orders = orders[orders['order_status'] == 'delivered']"
   ]
  },
  {
   "cell_type": "code",
   "execution_count": 13,
   "id": "26096dc8-ac33-4c0a-93e6-5bb4eb5b336f",
   "metadata": {},
   "outputs": [],
   "source": [
    "# Contoh KPI:\n",
    "# - Total penjualan per bulan\n",
    "merged_data['order_purchase_timestamp_x'] = pd.to_datetime(merged_data['order_purchase_timestamp_x'])\n",
    "merged_data['purchase_month_x'] = merged_data['order_purchase_timestamp_x'].dt.to_period('M')\n",
    "monthly_sales = merged_data.groupby('purchase_month_x')['price'].sum()"
   ]
  },
  {
   "cell_type": "code",
   "execution_count": 14,
   "id": "ed94b608-9147-4a16-88f4-ae8305745394",
   "metadata": {},
   "outputs": [
    {
     "data": {
      "text/plain": [
       "purchase_month_x\n",
       "2016-09        267.36\n",
       "2016-10      51068.92\n",
       "2016-12         10.90\n",
       "2017-01     129895.32\n",
       "2017-02     262013.86\n",
       "2017-03     398117.44\n",
       "2017-04     392595.36\n",
       "2017-05     549226.84\n",
       "2017-06     456867.47\n",
       "2017-07     536906.96\n",
       "2017-08     606026.98\n",
       "2017-09     665047.38\n",
       "2017-10     697457.32\n",
       "2017-11    1055072.10\n",
       "2017-12     773574.02\n",
       "2018-01     993701.49\n",
       "2018-02     889512.29\n",
       "2018-03    1029589.67\n",
       "2018-04    1031717.62\n",
       "2018-05    1032699.42\n",
       "2018-06     910053.03\n",
       "2018-07     927401.38\n",
       "2018-08     884731.52\n",
       "2018-09        145.00\n",
       "Freq: M, Name: price, dtype: float64"
      ]
     },
     "execution_count": 14,
     "metadata": {},
     "output_type": "execute_result"
    }
   ],
   "source": [
    "monthly_sales"
   ]
  },
  {
   "cell_type": "code",
   "execution_count": 15,
   "id": "ed7c5c4e-f64a-48b1-ba25-fb5eccfcc24a",
   "metadata": {},
   "outputs": [],
   "source": [
    "top_products = product_category_name.value_counts().head(10)"
   ]
  },
  {
   "cell_type": "code",
   "execution_count": 16,
   "id": "91a721c3-bef0-443f-aa5b-8e4a218dcb93",
   "metadata": {},
   "outputs": [
    {
     "data": {
      "image/png": "[encoded data removed]",
      "text/plain": [
       "<Figure size 1200x600 with 1 Axes>"
      ]
     },
     "metadata": {},
     "output_type": "display_data"
    }
   ],
   "source": [
    "import matplotlib.pyplot as plt\n",
    "import seaborn as sns\n",
    "\n",
    "# Contoh visualisasi tren penjualan bulanan\n",
    "plt.figure(figsize=(12, 6))\n",
    "sns.lineplot(x=monthly_sales.index.astype(str), y=monthly_sales.values)\n",
    "plt.title('Tren Penjualan Bulanan')\n",
    "plt.xlabel('Bulan')\n",
    "plt.ylabel('Total Penjualan (R$)')\n",
    "plt.xticks(rotation=45)\n",
    "plt.show()"
   ]
  },
  {
   "cell_type": "markdown",
   "id": "5f71352d-4c92-44f1-a5aa-091a503e2b1c",
   "metadata": {},
   "source": [
    "# Hitung Penjualan Bulanan dan Identifikasi Bulan Tertinggi/Rendah"
   ]
  },
  {
   "cell_type": "code",
   "execution_count": 19,
   "id": "78de9db6-75fa-4580-a7a6-a2b6c71b9d88",
   "metadata": {},
   "outputs": [
    {
     "data": {
      "text/plain": [
       "['order_id',\n",
       " 'customer_id',\n",
       " 'order_status',\n",
       " 'order_purchase_timestamp',\n",
       " 'order_approved_at',\n",
       " 'order_delivered_carrier_date',\n",
       " 'order_delivered_customer_date',\n",
       " 'order_estimated_delivery_date']"
      ]
     },
     "execution_count": 19,
     "metadata": {},
     "output_type": "execute_result"
    }
   ],
   "source": [
    "list(orders.columns)"
   ]
  },
  {
   "cell_type": "code",
   "execution_count": 20,
   "id": "35dbd764-2deb-4432-bec6-da417d38e2d4",
   "metadata": {},
   "outputs": [
    {
     "data": {
      "text/html": [
       "<div>\n",
       "<style scoped>\n",
       "    .dataframe tbody tr th:only-of-type {\n",
       "        vertical-align: middle;\n",
       "    }\n",
       "\n",
       "    .dataframe tbody tr th {\n",
       "        vertical-align: top;\n",
       "    }\n",
       "\n",
       "    .dataframe thead th {\n",
       "        text-align: right;\n",
       "    }\n",
       "</style>\n",
       "<table border=\"1\" class=\"dataframe\">\n",
       "  <thead>\n",
       "    <tr style=\"text-align: right;\">\n",
       "      <th></th>\n",
       "      <th>order_id</th>\n",
       "      <th>customer_id</th>\n",
       "      <th>order_status</th>\n",
       "      <th>order_purchase_timestamp</th>\n",
       "      <th>order_approved_at</th>\n",
       "      <th>order_delivered_carrier_date</th>\n",
       "      <th>order_delivered_customer_date</th>\n",
       "      <th>order_estimated_delivery_date</th>\n",
       "    </tr>\n",
       "  </thead>\n",
       "  <tbody>\n",
       "    <tr>\n",
       "      <th>0</th>\n",
       "      <td>e481f51cbdc54678b7cc49136f2d6af7</td>\n",
       "      <td>9ef432eb6251297304e76186b10a928d</td>\n",
       "      <td>delivered</td>\n",
       "      <td>2017-10-02 10:56:33</td>\n",
       "      <td>2017-10-02 11:07:15</td>\n",
       "      <td>2017-10-04 19:55:00</td>\n",
       "      <td>2017-10-10 21:25:13</td>\n",
       "      <td>2017-10-18 00:00:00</td>\n",
       "    </tr>\n",
       "    <tr>\n",
       "      <th>1</th>\n",
       "      <td>53cdb2fc8bc7dce0b6741e2150273451</td>\n",
       "      <td>b0830fb4747a6c6d20dea0b8c802d7ef</td>\n",
       "      <td>delivered</td>\n",
       "      <td>2018-07-24 20:41:37</td>\n",
       "      <td>2018-07-26 03:24:27</td>\n",
       "      <td>2018-07-26 14:31:00</td>\n",
       "      <td>2018-08-07 15:27:45</td>\n",
       "      <td>2018-08-13 00:00:00</td>\n",
       "    </tr>\n",
       "    <tr>\n",
       "      <th>2</th>\n",
       "      <td>47770eb9100c2d0c44946d9cf07ec65d</td>\n",
       "      <td>41ce2a54c0b03bf3443c3d931a367089</td>\n",
       "      <td>delivered</td>\n",
       "      <td>2018-08-08 08:38:49</td>\n",
       "      <td>2018-08-08 08:55:23</td>\n",
       "      <td>2018-08-08 13:50:00</td>\n",
       "      <td>2018-08-17 18:06:29</td>\n",
       "      <td>2018-09-04 00:00:00</td>\n",
       "    </tr>\n",
       "    <tr>\n",
       "      <th>3</th>\n",
       "      <td>949d5b44dbf5de918fe9c16f97b45f8a</td>\n",
       "      <td>f88197465ea7920adcdbec7375364d82</td>\n",
       "      <td>delivered</td>\n",
       "      <td>2017-11-18 19:28:06</td>\n",
       "      <td>2017-11-18 19:45:59</td>\n",
       "      <td>2017-11-22 13:39:59</td>\n",
       "      <td>2017-12-02 00:28:42</td>\n",
       "      <td>2017-12-15 00:00:00</td>\n",
       "    </tr>\n",
       "    <tr>\n",
       "      <th>4</th>\n",
       "      <td>ad21c59c0840e6cb83a9ceb5573f8159</td>\n",
       "      <td>8ab97904e6daea8866dbdbc4fb7aad2c</td>\n",
       "      <td>delivered</td>\n",
       "      <td>2018-02-13 21:18:39</td>\n",
       "      <td>2018-02-13 22:20:29</td>\n",
       "      <td>2018-02-14 19:46:34</td>\n",
       "      <td>2018-02-16 18:17:02</td>\n",
       "      <td>2018-02-26 00:00:00</td>\n",
       "    </tr>\n",
       "  </tbody>\n",
       "</table>\n",
       "</div>"
      ],
      "text/plain": [
       "                           order_id                       customer_id  \\\n",
       "0  e481f51cbdc54678b7cc49136f2d6af7  9ef432eb6251297304e76186b10a928d   \n",
       "1  53cdb2fc8bc7dce0b6741e2150273451  b0830fb4747a6c6d20dea0b8c802d7ef   \n",
       "2  47770eb9100c2d0c44946d9cf07ec65d  41ce2a54c0b03bf3443c3d931a367089   \n",
       "3  949d5b44dbf5de918fe9c16f97b45f8a  f88197465ea7920adcdbec7375364d82   \n",
       "4  ad21c59c0840e6cb83a9ceb5573f8159  8ab97904e6daea8866dbdbc4fb7aad2c   \n",
       "\n",
       "  order_status order_purchase_timestamp    order_approved_at  \\\n",
       "0    delivered      2017-10-02 10:56:33  2017-10-02 11:07:15   \n",
       "1    delivered      2018-07-24 20:41:37  2018-07-26 03:24:27   \n",
       "2    delivered      2018-08-08 08:38:49  2018-08-08 08:55:23   \n",
       "3    delivered      2017-11-18 19:28:06  2017-11-18 19:45:59   \n",
       "4    delivered      2018-02-13 21:18:39  2018-02-13 22:20:29   \n",
       "\n",
       "  order_delivered_carrier_date order_delivered_customer_date  \\\n",
       "0          2017-10-04 19:55:00           2017-10-10 21:25:13   \n",
       "1          2018-07-26 14:31:00           2018-08-07 15:27:45   \n",
       "2          2018-08-08 13:50:00           2018-08-17 18:06:29   \n",
       "3          2017-11-22 13:39:59           2017-12-02 00:28:42   \n",
       "4          2018-02-14 19:46:34           2018-02-16 18:17:02   \n",
       "\n",
       "  order_estimated_delivery_date  \n",
       "0           2017-10-18 00:00:00  \n",
       "1           2018-08-13 00:00:00  \n",
       "2           2018-09-04 00:00:00  \n",
       "3           2017-12-15 00:00:00  \n",
       "4           2018-02-26 00:00:00  "
      ]
     },
     "execution_count": 20,
     "metadata": {},
     "output_type": "execute_result"
    }
   ],
   "source": [
    "orders.head(5)"
   ]
  },
  {
   "cell_type": "code",
   "execution_count": 51,
   "id": "c72d0b4c-927f-42bc-889c-97ba715f18d0",
   "metadata": {},
   "outputs": [],
   "source": [
    "import pandas as pd\n",
    "import matplotlib.pyplot as plt\n",
    "import seaborn as sns\n",
    "\n",
    "def calculate_order(orders_data, orders_item_data, times='M'):\n",
    "    # Menggabungkan (merge) dataset order_items dengan orders berdasarkan kolom \"order_id\".\n",
    "    # Menggunakan inner join, sehingga hanya baris yang memiliki \"order_id\" yang sama di kedua dataset yang akan dipertahankan.\n",
    "    merged_data = pd.merge(orders_item_data, orders_data, on=\"order_id\", how=\"inner\")\n",
    "    \n",
    "    # Mengonversi kolom 'order_purchase_timestamp' menjadi format datetime.\n",
    "    # Parameter errors='coerce' akan mengubah nilai yang tidak bisa dikonversi menjadi NaT (Not a Time).\n",
    "    merged_data['order_purchase_timestamp'] = pd.to_datetime(merged_data['order_purchase_timestamp'], errors='coerce')\n",
    "    \n",
    "    # Menghapus baris-baris yang memiliki nilai kosong (missing values) pada kolom 'order_purchase_timestamp' dan 'price'.\n",
    "    # Hal ini penting agar perhitungan penjualan tidak terganggu oleh data yang tidak lengkap.\n",
    "    merged_data = merged_data.dropna(subset=['order_purchase_timestamp', 'price'])\n",
    "    \n",
    "    # Mengonversi kolom 'price' menjadi tipe numerik agar operasi matematis (penjumlahan) dapat dilakukan.\n",
    "    # Jika ada nilai yang tidak bisa dikonversi, akan diubah menjadi NaN.\n",
    "    merged_data['price'] = pd.to_numeric(merged_data['price'], errors='coerce')\n",
    "    \n",
    "    # Menghapus baris yang memiliki nilai NaN pada kolom 'price' setelah konversi.\n",
    "    merged_data = merged_data.dropna(subset=['price'])\n",
    "    \n",
    "    # Membuat kolom baru 'purchase_month' dengan mengekstrak periode bulanan dari kolom 'order_purchase_timestamp'.\n",
    "    # Hasilnya adalah periode dalam format 'YYYY-MM', misalnya \"2017-10\".\n",
    "    merged_data['purchase_month'] = merged_data['order_purchase_timestamp'].dt.to_period('M')\n",
    "    \n",
    "    # Mengelompokkan data berdasarkan 'purchase_month' dan menghitung total penjualan (sum) pada kolom 'price'\n",
    "    # untuk setiap bulan.\n",
    "    monthly_sales = merged_data.groupby('purchase_month')['price'].sum()\n",
    "    \n",
    "    # Mengembalikan hasil agregasi total penjualan per bulan.\n",
    "    return monthly_sales\n",
    "\n"
   ]
  },
  {
   "cell_type": "code",
   "execution_count": 52,
   "id": "60c32f44-a2f2-44b5-8bfa-af51111dbaad",
   "metadata": {},
   "outputs": [],
   "source": [
    "monthly_sales_order = calaculate_order(orders, order_items)"
   ]
  },
  {
   "cell_type": "code",
   "execution_count": 53,
   "id": "7f30c95b-bfb5-4f5b-9033-1d9791999e85",
   "metadata": {},
   "outputs": [
    {
     "name": "stdout",
     "output_type": "stream",
     "text": [
      "Bulan penjualan tertinggi: 2017-11, penjualan: 1055072.1\n",
      "Bulan penjualan terendah: 2016-12, penjualan: 10.9\n"
     ]
    }
   ],
   "source": [
    "# Identifikasi bulan dengan penjualan maksimum dan minimum\n",
    "max_month = monthly_sales_order.idxmax()\n",
    "min_month = monthly_sales_order.idxmin()\n",
    "print(f\"Bulan penjualan tertinggi: {max_month}, penjualan: {monthly_sales[max_month]}\")\n",
    "print(f\"Bulan penjualan terendah: {min_month}, penjualan: {monthly_sales[min_month]}\")"
   ]
  },
  {
   "cell_type": "code",
   "execution_count": 54,
   "id": "4ac5e49b-28e2-4edb-be57-10e9e3d8515b",
   "metadata": {},
   "outputs": [
    {
     "data": {
      "image/png": "[encoded data removed]",
      "text/plain": [
       "<Figure size 1000x500 with 1 Axes>"
      ]
     },
     "metadata": {},
     "output_type": "display_data"
    }
   ],
   "source": [
    "# Visualisasi grafik tren penjualan bulanan\n",
    "plt.figure(figsize=(10, 5))\n",
    "plt.plot(monthly_sales_order.index.astype(str), monthly_sales_order.values, marker='o')\n",
    "plt.title('Tren Penjualan Bulanan')\n",
    "plt.xlabel('Bulan')\n",
    "plt.ylabel('Total Penjualan')\n",
    "plt.xticks(rotation=45)\n",
    "plt.axvline(x=str(max_month), color='g', linestyle='--', label='Penjualan Maksimum')\n",
    "plt.axvline(x=str(min_month), color='r', linestyle='--', label='Penjualan Minimum')\n",
    "plt.legend()\n",
    "plt.tight_layout()\n",
    "plt.show()\n"
   ]
  },
  {
   "cell_type": "markdown",
   "id": "5b13d3e9-7b42-4b36-ab28-a9ecb1dc4a93",
   "metadata": {},
   "source": [
    "# Load Data"
   ]
  },
  {
   "cell_type": "code",
   "execution_count": 58,
   "id": "40cf0aa9-e510-4738-bd0b-7f8791ca610a",
   "metadata": {},
   "outputs": [],
   "source": [
    "import sqlite3\n",
    "\n",
    "def load_data(monthly_sales_df):\n",
    "    conn = sqlite3.connect('ecommerce_analysis.db')\n",
    "    monthly_sales_df.to_sql('monthly_sales', conn, if_exists='replace', index=False)\n",
    "    conn.close()\n",
    "\n",
    "# Misalnya, jika monthly_sales_df sudah disiapkan:\n",
    "load_data(monthly_sales_order)"
   ]
  },
  {
   "cell_type": "code",
   "execution_count": null,
   "id": "771a4b56-0267-4359-8956-550d52db284d",
   "metadata": {},
   "outputs": [],
   "source": []
  }
 ],
 "metadata": {
  "kernelspec": {
   "display_name": "Python 3 (ipykernel)",
   "language": "python",
   "name": "python3"
  },
  "language_info": {
   "codemirror_mode": {
    "name": "ipython",
    "version": 3
   },
   "file_extension": ".py",
   "mimetype": "text/x-python",
   "name": "python",
   "nbconvert_exporter": "python",
   "pygments_lexer": "ipython3",
   "version": "3.11.10"
  }
 },
 "nbformat": 4,
 "nbformat_minor": 5
}
